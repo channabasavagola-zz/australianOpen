{
 "cells": [
  {
   "cell_type": "markdown",
   "metadata": {},
   "source": [
    "###### Load dataset"
   ]
  },
  {
   "cell_type": "code",
   "execution_count": 1,
   "metadata": {
    "collapsed": true
   },
   "outputs": [],
   "source": [
    "import pandas as pd\n",
    "df = pd.read_csv(\"10yearAUSOpenMatches.csv\")"
   ]
  },
  {
   "cell_type": "markdown",
   "metadata": {},
   "source": [
    "###### Initial analysis"
   ]
  },
  {
   "cell_type": "code",
   "execution_count": 2,
   "metadata": {},
   "outputs": [
    {
     "data": {
      "text/html": [
       "<div>\n",
       "<style>\n",
       "    .dataframe thead tr:only-child th {\n",
       "        text-align: right;\n",
       "    }\n",
       "\n",
       "    .dataframe thead th {\n",
       "        text-align: left;\n",
       "    }\n",
       "\n",
       "    .dataframe tbody tr th {\n",
       "        vertical-align: top;\n",
       "    }\n",
       "</style>\n",
       "<table border=\"1\" class=\"dataframe\">\n",
       "  <thead>\n",
       "    <tr style=\"text-align: right;\">\n",
       "      <th></th>\n",
       "      <th>year</th>\n",
       "      <th>ace1</th>\n",
       "      <th>ace2</th>\n",
       "      <th>double1</th>\n",
       "      <th>double2</th>\n",
       "      <th>fastServe1</th>\n",
       "      <th>fastServe2</th>\n",
       "      <th>avgFirstServe1</th>\n",
       "      <th>avgFirstServe2</th>\n",
       "      <th>avgSecServe1</th>\n",
       "      <th>avgSecServe2</th>\n",
       "      <th>total1</th>\n",
       "      <th>total2</th>\n",
       "      <th>winner1</th>\n",
       "      <th>winner2</th>\n",
       "      <th>error1</th>\n",
       "      <th>error2</th>\n",
       "    </tr>\n",
       "  </thead>\n",
       "  <tbody>\n",
       "    <tr>\n",
       "      <th>count</th>\n",
       "      <td>1386.000000</td>\n",
       "      <td>1386.000000</td>\n",
       "      <td>1386.000000</td>\n",
       "      <td>1386.000000</td>\n",
       "      <td>1386.000000</td>\n",
       "      <td>847.000000</td>\n",
       "      <td>847.000000</td>\n",
       "      <td>847.000000</td>\n",
       "      <td>847.000000</td>\n",
       "      <td>1034.000000</td>\n",
       "      <td>1034.000000</td>\n",
       "      <td>1386.000000</td>\n",
       "      <td>1386.000000</td>\n",
       "      <td>1215.000000</td>\n",
       "      <td>1215.000000</td>\n",
       "      <td>1257.000000</td>\n",
       "      <td>1257.000000</td>\n",
       "    </tr>\n",
       "    <tr>\n",
       "      <th>mean</th>\n",
       "      <td>2008.987013</td>\n",
       "      <td>9.720779</td>\n",
       "      <td>6.961039</td>\n",
       "      <td>3.349928</td>\n",
       "      <td>4.450938</td>\n",
       "      <td>205.282172</td>\n",
       "      <td>202.700118</td>\n",
       "      <td>182.151122</td>\n",
       "      <td>180.422668</td>\n",
       "      <td>120.115087</td>\n",
       "      <td>119.687621</td>\n",
       "      <td>119.301587</td>\n",
       "      <td>98.965368</td>\n",
       "      <td>38.187654</td>\n",
       "      <td>30.332510</td>\n",
       "      <td>29.612570</td>\n",
       "      <td>37.154336</td>\n",
       "    </tr>\n",
       "    <tr>\n",
       "      <th>std</th>\n",
       "      <td>3.162708</td>\n",
       "      <td>6.499705</td>\n",
       "      <td>6.058791</td>\n",
       "      <td>2.686950</td>\n",
       "      <td>2.925694</td>\n",
       "      <td>11.944491</td>\n",
       "      <td>10.822653</td>\n",
       "      <td>10.886621</td>\n",
       "      <td>10.464320</td>\n",
       "      <td>57.870163</td>\n",
       "      <td>57.659297</td>\n",
       "      <td>30.662857</td>\n",
       "      <td>37.294925</td>\n",
       "      <td>16.405719</td>\n",
       "      <td>16.984043</td>\n",
       "      <td>17.812906</td>\n",
       "      <td>18.352096</td>\n",
       "    </tr>\n",
       "    <tr>\n",
       "      <th>min</th>\n",
       "      <td>2004.000000</td>\n",
       "      <td>0.000000</td>\n",
       "      <td>0.000000</td>\n",
       "      <td>0.000000</td>\n",
       "      <td>0.000000</td>\n",
       "      <td>8.000000</td>\n",
       "      <td>163.000000</td>\n",
       "      <td>85.000000</td>\n",
       "      <td>138.000000</td>\n",
       "      <td>0.000000</td>\n",
       "      <td>0.000000</td>\n",
       "      <td>0.000000</td>\n",
       "      <td>0.000000</td>\n",
       "      <td>0.000000</td>\n",
       "      <td>0.000000</td>\n",
       "      <td>0.000000</td>\n",
       "      <td>0.000000</td>\n",
       "    </tr>\n",
       "    <tr>\n",
       "      <th>25%</th>\n",
       "      <td>2006.000000</td>\n",
       "      <td>5.000000</td>\n",
       "      <td>3.000000</td>\n",
       "      <td>1.000000</td>\n",
       "      <td>2.000000</td>\n",
       "      <td>198.000000</td>\n",
       "      <td>196.000000</td>\n",
       "      <td>175.000000</td>\n",
       "      <td>174.000000</td>\n",
       "      <td>135.000000</td>\n",
       "      <td>134.000000</td>\n",
       "      <td>97.000000</td>\n",
       "      <td>71.000000</td>\n",
       "      <td>28.000000</td>\n",
       "      <td>18.000000</td>\n",
       "      <td>17.000000</td>\n",
       "      <td>26.000000</td>\n",
       "    </tr>\n",
       "    <tr>\n",
       "      <th>50%</th>\n",
       "      <td>2009.000000</td>\n",
       "      <td>9.000000</td>\n",
       "      <td>5.000000</td>\n",
       "      <td>3.000000</td>\n",
       "      <td>4.000000</td>\n",
       "      <td>205.000000</td>\n",
       "      <td>202.000000</td>\n",
       "      <td>183.000000</td>\n",
       "      <td>181.000000</td>\n",
       "      <td>144.000000</td>\n",
       "      <td>143.000000</td>\n",
       "      <td>114.000000</td>\n",
       "      <td>94.000000</td>\n",
       "      <td>37.000000</td>\n",
       "      <td>28.000000</td>\n",
       "      <td>28.000000</td>\n",
       "      <td>37.000000</td>\n",
       "    </tr>\n",
       "    <tr>\n",
       "      <th>75%</th>\n",
       "      <td>2012.000000</td>\n",
       "      <td>13.000000</td>\n",
       "      <td>9.000000</td>\n",
       "      <td>5.000000</td>\n",
       "      <td>6.000000</td>\n",
       "      <td>213.000000</td>\n",
       "      <td>210.000000</td>\n",
       "      <td>190.000000</td>\n",
       "      <td>188.000000</td>\n",
       "      <td>151.000000</td>\n",
       "      <td>151.000000</td>\n",
       "      <td>139.000000</td>\n",
       "      <td>125.000000</td>\n",
       "      <td>48.500000</td>\n",
       "      <td>41.000000</td>\n",
       "      <td>40.000000</td>\n",
       "      <td>49.000000</td>\n",
       "    </tr>\n",
       "    <tr>\n",
       "      <th>max</th>\n",
       "      <td>2014.000000</td>\n",
       "      <td>43.000000</td>\n",
       "      <td>51.000000</td>\n",
       "      <td>23.000000</td>\n",
       "      <td>23.000000</td>\n",
       "      <td>235.000000</td>\n",
       "      <td>237.000000</td>\n",
       "      <td>212.000000</td>\n",
       "      <td>208.000000</td>\n",
       "      <td>184.000000</td>\n",
       "      <td>178.000000</td>\n",
       "      <td>256.000000</td>\n",
       "      <td>234.000000</td>\n",
       "      <td>99.000000</td>\n",
       "      <td>100.000000</td>\n",
       "      <td>104.000000</td>\n",
       "      <td>96.000000</td>\n",
       "    </tr>\n",
       "  </tbody>\n",
       "</table>\n",
       "</div>"
      ],
      "text/plain": [
       "              year         ace1         ace2      double1      double2  \\\n",
       "count  1386.000000  1386.000000  1386.000000  1386.000000  1386.000000   \n",
       "mean   2008.987013     9.720779     6.961039     3.349928     4.450938   \n",
       "std       3.162708     6.499705     6.058791     2.686950     2.925694   \n",
       "min    2004.000000     0.000000     0.000000     0.000000     0.000000   \n",
       "25%    2006.000000     5.000000     3.000000     1.000000     2.000000   \n",
       "50%    2009.000000     9.000000     5.000000     3.000000     4.000000   \n",
       "75%    2012.000000    13.000000     9.000000     5.000000     6.000000   \n",
       "max    2014.000000    43.000000    51.000000    23.000000    23.000000   \n",
       "\n",
       "       fastServe1  fastServe2  avgFirstServe1  avgFirstServe2  avgSecServe1  \\\n",
       "count  847.000000  847.000000      847.000000      847.000000   1034.000000   \n",
       "mean   205.282172  202.700118      182.151122      180.422668    120.115087   \n",
       "std     11.944491   10.822653       10.886621       10.464320     57.870163   \n",
       "min      8.000000  163.000000       85.000000      138.000000      0.000000   \n",
       "25%    198.000000  196.000000      175.000000      174.000000    135.000000   \n",
       "50%    205.000000  202.000000      183.000000      181.000000    144.000000   \n",
       "75%    213.000000  210.000000      190.000000      188.000000    151.000000   \n",
       "max    235.000000  237.000000      212.000000      208.000000    184.000000   \n",
       "\n",
       "       avgSecServe2       total1       total2      winner1      winner2  \\\n",
       "count   1034.000000  1386.000000  1386.000000  1215.000000  1215.000000   \n",
       "mean     119.687621   119.301587    98.965368    38.187654    30.332510   \n",
       "std       57.659297    30.662857    37.294925    16.405719    16.984043   \n",
       "min        0.000000     0.000000     0.000000     0.000000     0.000000   \n",
       "25%      134.000000    97.000000    71.000000    28.000000    18.000000   \n",
       "50%      143.000000   114.000000    94.000000    37.000000    28.000000   \n",
       "75%      151.000000   139.000000   125.000000    48.500000    41.000000   \n",
       "max      178.000000   256.000000   234.000000    99.000000   100.000000   \n",
       "\n",
       "            error1       error2  \n",
       "count  1257.000000  1257.000000  \n",
       "mean     29.612570    37.154336  \n",
       "std      17.812906    18.352096  \n",
       "min       0.000000     0.000000  \n",
       "25%      17.000000    26.000000  \n",
       "50%      28.000000    37.000000  \n",
       "75%      40.000000    49.000000  \n",
       "max     104.000000    96.000000  "
      ]
     },
     "execution_count": 2,
     "metadata": {},
     "output_type": "execute_result"
    }
   ],
   "source": [
    "df.describe() # of no use for all the rows.\n",
    "            # Why do I need the mean, std and other info for 'year'!"
   ]
  },
  {
   "cell_type": "code",
   "execution_count": 3,
   "metadata": {},
   "outputs": [
    {
     "data": {
      "text/plain": [
       "Index(['round', 'winner', 'results', 'year', 'gender', 'player1', 'player2',\n",
       "       'country1', 'country2', 'firstServe1', 'firstServe2', 'ace1', 'ace2',\n",
       "       'double1', 'double2', 'firstPointWon1', 'firstPointWon2',\n",
       "       'secPointWon1', 'secPointWon2', 'fastServe1', 'fastServe2',\n",
       "       'avgFirstServe1', 'avgFirstServe2', 'avgSecServe1', 'avgSecServe2',\n",
       "       'break1', 'break2', 'return1', 'return2', 'total1', 'total2', 'winner1',\n",
       "       'winner2', 'error1', 'error2', 'net1', 'net2'],\n",
       "      dtype='object')"
      ]
     },
     "execution_count": 3,
     "metadata": {},
     "output_type": "execute_result"
    }
   ],
   "source": [
    "df.columns"
   ]
  },
  {
   "cell_type": "code",
   "execution_count": 4,
   "metadata": {},
   "outputs": [
    {
     "name": "stdout",
     "output_type": "stream",
     "text": [
      "We have data for 11 years\n"
     ]
    }
   ],
   "source": [
    "print(\"We have data for\", df['year'].unique().size, \"years\")"
   ]
  },
  {
   "cell_type": "markdown",
   "metadata": {},
   "source": [
    "### Some interesting Questions!\n",
    "\n",
    "###### How many rounds does a player need to play to become a champ? And what are those?"
   ]
  },
  {
   "cell_type": "code",
   "execution_count": 5,
   "metadata": {},
   "outputs": [
    {
     "name": "stdout",
     "output_type": "stream",
     "text": [
      "Number of rounds:  7\n"
     ]
    },
    {
     "data": {
      "text/plain": [
       "array(['Final', 'semi', 'quarter', 'Fourth', 'Third', 'Second', 'First'],\n",
       "      dtype=object)"
      ]
     },
     "execution_count": 5,
     "metadata": {},
     "output_type": "execute_result"
    }
   ],
   "source": [
    "print(\"Number of rounds: \", df['round'].unique().size)\n",
    "df['round'].unique()"
   ]
  },
  {
   "cell_type": "markdown",
   "metadata": {},
   "source": [
    "###### What is the number of games played at each level for all 11 years?"
   ]
  },
  {
   "cell_type": "code",
   "execution_count": 6,
   "metadata": {},
   "outputs": [
    {
     "data": {
      "text/plain": [
       "round\n",
       "Final       11\n",
       "First      696\n",
       "Fourth      88\n",
       "Second     351\n",
       "Third      174\n",
       "quarter     44\n",
       "semi        22\n",
       "dtype: int64"
      ]
     },
     "execution_count": 6,
     "metadata": {},
     "output_type": "execute_result"
    }
   ],
   "source": [
    "df.groupby(\"round\").size() # if we see how many games were played at each level."
   ]
  },
  {
   "cell_type": "markdown",
   "metadata": {},
   "source": [
    "We can see that, for obvious reasons, 'First' level was played the most. And the number decreases for each level. \n",
    "\n",
    "But, from level 4, to final, the number decreases exactly by the factor of 2.\n",
    "But from 1st to 2nd it is almost by the factor of 2 but not exact. We can figure out the reason later.\n",
    "Same with 2nd and 3rd and between 3rd and 4th. It is almost by the factor of 2 but not exact 2.\n",
    "\n",
    "This is analyzed further in the analysis."
   ]
  },
  {
   "cell_type": "markdown",
   "metadata": {},
   "source": [
    "###### what is the number of games played over 11 years?"
   ]
  },
  {
   "cell_type": "code",
   "execution_count": 7,
   "metadata": {},
   "outputs": [
    {
     "data": {
      "text/plain": [
       "gender\n",
       "m    1386\n",
       "dtype: int64"
      ]
     },
     "execution_count": 7,
     "metadata": {},
     "output_type": "execute_result"
    }
   ],
   "source": [
    "df.groupby(\"gender\").size()"
   ]
  },
  {
   "cell_type": "markdown",
   "metadata": {},
   "source": [
    "We only have the data for men and 1386 games were played in that 11 years in Australian open."
   ]
  },
  {
   "cell_type": "markdown",
   "metadata": {},
   "source": [
    "###### what is the number of different players?"
   ]
  },
  {
   "cell_type": "code",
   "execution_count": 8,
   "metadata": {},
   "outputs": [
    {
     "data": {
      "text/plain": [
       "381"
      ]
     },
     "execution_count": 8,
     "metadata": {},
     "output_type": "execute_result"
    }
   ],
   "source": [
    "(df['player1'].append(df['player2'])).unique().size"
   ]
  },
  {
   "cell_type": "markdown",
   "metadata": {},
   "source": [
    "So, to figure out total number of different players who played at Aus open for a period of 11 years can be found by appending both columns, then finding unique rows and counting them.\n",
    "\n",
    "381 different players played."
   ]
  },
  {
   "cell_type": "markdown",
   "metadata": {},
   "source": [
    "###### what is the number of players who won?"
   ]
  },
  {
   "cell_type": "code",
   "execution_count": 9,
   "metadata": {},
   "outputs": [
    {
     "name": "stdout",
     "output_type": "stream",
     "text": [
      "Number of players who won:  251\n"
     ]
    },
    {
     "data": {
      "text/plain": [
       "winner\n",
       "Roger Federer     63\n",
       "Novak Djokovic    43\n",
       "Rafael Nadal      41\n",
       "Andy Murray       33\n",
       "Andy Roddick      32\n",
       "dtype: int64"
      ]
     },
     "execution_count": 9,
     "metadata": {},
     "output_type": "execute_result"
    }
   ],
   "source": [
    "print(\"Number of players who won: \", df.groupby(\"winner\").size().size)\n",
    "df.groupby(\"winner\").size().sort_values(ascending = False).head()"
   ]
  },
  {
   "cell_type": "markdown",
   "metadata": {
    "collapsed": true
   },
   "source": [
    "In 1386 games, 251 different players win at several different levels.\n",
    "Roger Federer won the most with 63 wins. \n",
    "It is important to make a note that the 2nd most wins by Djokovic is 20 less!\n",
    "\n",
    "Apparently player1 for each game in the dataset has won the match. Player2 in each game has lost that particular match.\n",
    "\n",
    "###### How many are yet to win?\n",
    "So, now we know that 381 different players played Australian open. And we can also make a note of the fact that 130 players are yet to win."
   ]
  },
  {
   "cell_type": "markdown",
   "metadata": {},
   "source": [
    "###### Is there a guy who is yet to loose?"
   ]
  },
  {
   "cell_type": "code",
   "execution_count": 10,
   "metadata": {},
   "outputs": [
    {
     "data": {
      "text/plain": [
       "{'Vasek Pospisil'}"
      ]
     },
     "execution_count": 10,
     "metadata": {},
     "output_type": "execute_result"
    }
   ],
   "source": [
    "set(df['player1']).difference(set(df['player2']))"
   ]
  },
  {
   "cell_type": "markdown",
   "metadata": {},
   "source": [
    "This guy Vasek Pospisil never lost Australian open in those 11 years. Let see how many appearnaces he had.?"
   ]
  },
  {
   "cell_type": "code",
   "execution_count": 11,
   "metadata": {},
   "outputs": [
    {
     "data": {
      "text/html": [
       "<div>\n",
       "<style>\n",
       "    .dataframe thead tr:only-child th {\n",
       "        text-align: right;\n",
       "    }\n",
       "\n",
       "    .dataframe thead th {\n",
       "        text-align: left;\n",
       "    }\n",
       "\n",
       "    .dataframe tbody tr th {\n",
       "        vertical-align: top;\n",
       "    }\n",
       "</style>\n",
       "<table border=\"1\" class=\"dataframe\">\n",
       "  <thead>\n",
       "    <tr style=\"text-align: right;\">\n",
       "      <th></th>\n",
       "      <th>round</th>\n",
       "      <th>winner</th>\n",
       "      <th>results</th>\n",
       "      <th>year</th>\n",
       "      <th>gender</th>\n",
       "      <th>player1</th>\n",
       "      <th>player2</th>\n",
       "      <th>country1</th>\n",
       "      <th>country2</th>\n",
       "      <th>firstServe1</th>\n",
       "      <th>...</th>\n",
       "      <th>return1</th>\n",
       "      <th>return2</th>\n",
       "      <th>total1</th>\n",
       "      <th>total2</th>\n",
       "      <th>winner1</th>\n",
       "      <th>winner2</th>\n",
       "      <th>error1</th>\n",
       "      <th>error2</th>\n",
       "      <th>net1</th>\n",
       "      <th>net2</th>\n",
       "    </tr>\n",
       "  </thead>\n",
       "  <tbody>\n",
       "    <tr>\n",
       "      <th>1309</th>\n",
       "      <td>Second</td>\n",
       "      <td>Vasek Pospisil</td>\n",
       "      <td>3-6 7-6(6) 7-6(9) 6-1</td>\n",
       "      <td>2014</td>\n",
       "      <td>m</td>\n",
       "      <td>Vasek Pospisil</td>\n",
       "      <td>Matthew Ebden</td>\n",
       "      <td>CAN</td>\n",
       "      <td>AUS</td>\n",
       "      <td>60%</td>\n",
       "      <td>...</td>\n",
       "      <td>34%</td>\n",
       "      <td>30%</td>\n",
       "      <td>132</td>\n",
       "      <td>121</td>\n",
       "      <td>46.0</td>\n",
       "      <td>30.0</td>\n",
       "      <td>47.0</td>\n",
       "      <td>43.0</td>\n",
       "      <td>64%</td>\n",
       "      <td>74%</td>\n",
       "    </tr>\n",
       "    <tr>\n",
       "      <th>1379</th>\n",
       "      <td>First</td>\n",
       "      <td>Vasek Pospisil</td>\n",
       "      <td>6-4 6-3 6-4</td>\n",
       "      <td>2014</td>\n",
       "      <td>m</td>\n",
       "      <td>Vasek Pospisil</td>\n",
       "      <td>Samuel Groth</td>\n",
       "      <td>CAN</td>\n",
       "      <td>AUS</td>\n",
       "      <td>67%</td>\n",
       "      <td>...</td>\n",
       "      <td>39%</td>\n",
       "      <td>23%</td>\n",
       "      <td>94</td>\n",
       "      <td>74</td>\n",
       "      <td>31.0</td>\n",
       "      <td>35.0</td>\n",
       "      <td>17.0</td>\n",
       "      <td>25.0</td>\n",
       "      <td>60%</td>\n",
       "      <td>47%</td>\n",
       "    </tr>\n",
       "  </tbody>\n",
       "</table>\n",
       "<p>2 rows × 37 columns</p>\n",
       "</div>"
      ],
      "text/plain": [
       "       round          winner                results  year gender  \\\n",
       "1309  Second  Vasek Pospisil  3-6 7-6(6) 7-6(9) 6-1  2014      m   \n",
       "1379   First  Vasek Pospisil            6-4 6-3 6-4  2014      m   \n",
       "\n",
       "             player1        player2 country1 country2 firstServe1  ...   \\\n",
       "1309  Vasek Pospisil  Matthew Ebden      CAN      AUS         60%  ...    \n",
       "1379  Vasek Pospisil   Samuel Groth      CAN      AUS         67%  ...    \n",
       "\n",
       "     return1  return2  total1  total2  winner1 winner2 error1 error2 net1  \\\n",
       "1309     34%      30%     132     121     46.0    30.0   47.0   43.0  64%   \n",
       "1379     39%      23%      94      74     31.0    35.0   17.0   25.0  60%   \n",
       "\n",
       "      net2  \n",
       "1309   74%  \n",
       "1379   47%  \n",
       "\n",
       "[2 rows x 37 columns]"
      ]
     },
     "execution_count": 11,
     "metadata": {},
     "output_type": "execute_result"
    }
   ],
   "source": [
    "# df[\"player1\" == \"Vasek Pospisil\"]\n",
    "df.loc[df['player1'] == \"Vasek Pospisil\"]"
   ]
  },
  {
   "cell_type": "markdown",
   "metadata": {},
   "source": [
    "Okay. Vasek Pospisil has two appearances in 2014 only. \n",
    "\n",
    "###### Why was he out of the tournament or did not make it to final if he has not lost any?\n",
    "\n",
    "From https://matchstat.com/tennis/player/Vasek%20Pospisil, I get to re-confirm that he was scheduled for the 3rd round match against Stan Wawarinka.\n",
    "![3 Games](./img/3games.png)\n",
    "\n",
    "But, due to back injury, he withdrew from that game. For more details http://www.tennis.com/pro-game/2014/01/pospisil-withdraws-australian-open-wawrinka-fourth-round/50278/.\n",
    "\n",
    "![withdraw](./img/withdraw.png)"
   ]
  },
  {
   "cell_type": "markdown",
   "metadata": {},
   "source": [
    "###### The following analysis tells why number of games at each level doesn't differ by the factor of 2!"
   ]
  },
  {
   "cell_type": "code",
   "execution_count": 12,
   "metadata": {},
   "outputs": [
    {
     "data": {
      "text/html": [
       "<style  type=\"text/css\" >\n",
       "    #T_abfe1c86_0b1d_11e8_8a02_6a00032849f0row0_col0 {\n",
       "            color:  black;\n",
       "        }    #T_abfe1c86_0b1d_11e8_8a02_6a00032849f0row0_col1 {\n",
       "            color:  black;\n",
       "        }    #T_abfe1c86_0b1d_11e8_8a02_6a00032849f0row0_col2 {\n",
       "            color:  black;\n",
       "        }    #T_abfe1c86_0b1d_11e8_8a02_6a00032849f0row0_col3 {\n",
       "            color:  black;\n",
       "        }    #T_abfe1c86_0b1d_11e8_8a02_6a00032849f0row0_col4 {\n",
       "            color:  black;\n",
       "        }    #T_abfe1c86_0b1d_11e8_8a02_6a00032849f0row0_col5 {\n",
       "            color:  black;\n",
       "        }    #T_abfe1c86_0b1d_11e8_8a02_6a00032849f0row0_col6 {\n",
       "            color:  black;\n",
       "        }    #T_abfe1c86_0b1d_11e8_8a02_6a00032849f0row0_col7 {\n",
       "            color:  black;\n",
       "        }    #T_abfe1c86_0b1d_11e8_8a02_6a00032849f0row0_col8 {\n",
       "            color:  black;\n",
       "        }    #T_abfe1c86_0b1d_11e8_8a02_6a00032849f0row0_col9 {\n",
       "            color:  black;\n",
       "        }    #T_abfe1c86_0b1d_11e8_8a02_6a00032849f0row0_col10 {\n",
       "            color:  black;\n",
       "        }    #T_abfe1c86_0b1d_11e8_8a02_6a00032849f0row1_col0 {\n",
       "            color:  black;\n",
       "        }    #T_abfe1c86_0b1d_11e8_8a02_6a00032849f0row1_col1 {\n",
       "            color:  black;\n",
       "        }    #T_abfe1c86_0b1d_11e8_8a02_6a00032849f0row1_col2 {\n",
       "            color:  cyan;\n",
       "        }    #T_abfe1c86_0b1d_11e8_8a02_6a00032849f0row1_col3 {\n",
       "            color:  cyan;\n",
       "        }    #T_abfe1c86_0b1d_11e8_8a02_6a00032849f0row1_col4 {\n",
       "            color:  cyan;\n",
       "        }    #T_abfe1c86_0b1d_11e8_8a02_6a00032849f0row1_col5 {\n",
       "            color:  cyan;\n",
       "        }    #T_abfe1c86_0b1d_11e8_8a02_6a00032849f0row1_col6 {\n",
       "            color:  cyan;\n",
       "        }    #T_abfe1c86_0b1d_11e8_8a02_6a00032849f0row1_col7 {\n",
       "            color:  black;\n",
       "        }    #T_abfe1c86_0b1d_11e8_8a02_6a00032849f0row1_col8 {\n",
       "            color:  black;\n",
       "        }    #T_abfe1c86_0b1d_11e8_8a02_6a00032849f0row1_col9 {\n",
       "            color:  cyan;\n",
       "        }    #T_abfe1c86_0b1d_11e8_8a02_6a00032849f0row1_col10 {\n",
       "            color:  black;\n",
       "        }    #T_abfe1c86_0b1d_11e8_8a02_6a00032849f0row2_col0 {\n",
       "            color:  black;\n",
       "        }    #T_abfe1c86_0b1d_11e8_8a02_6a00032849f0row2_col1 {\n",
       "            color:  black;\n",
       "        }    #T_abfe1c86_0b1d_11e8_8a02_6a00032849f0row2_col2 {\n",
       "            color:  black;\n",
       "        }    #T_abfe1c86_0b1d_11e8_8a02_6a00032849f0row2_col3 {\n",
       "            color:  black;\n",
       "        }    #T_abfe1c86_0b1d_11e8_8a02_6a00032849f0row2_col4 {\n",
       "            color:  black;\n",
       "        }    #T_abfe1c86_0b1d_11e8_8a02_6a00032849f0row2_col5 {\n",
       "            color:  black;\n",
       "        }    #T_abfe1c86_0b1d_11e8_8a02_6a00032849f0row2_col6 {\n",
       "            color:  black;\n",
       "        }    #T_abfe1c86_0b1d_11e8_8a02_6a00032849f0row2_col7 {\n",
       "            color:  black;\n",
       "        }    #T_abfe1c86_0b1d_11e8_8a02_6a00032849f0row2_col8 {\n",
       "            color:  black;\n",
       "        }    #T_abfe1c86_0b1d_11e8_8a02_6a00032849f0row2_col9 {\n",
       "            color:  black;\n",
       "        }    #T_abfe1c86_0b1d_11e8_8a02_6a00032849f0row2_col10 {\n",
       "            color:  black;\n",
       "        }    #T_abfe1c86_0b1d_11e8_8a02_6a00032849f0row3_col0 {\n",
       "            color:  black;\n",
       "        }    #T_abfe1c86_0b1d_11e8_8a02_6a00032849f0row3_col1 {\n",
       "            color:  black;\n",
       "        }    #T_abfe1c86_0b1d_11e8_8a02_6a00032849f0row3_col2 {\n",
       "            color:  black;\n",
       "        }    #T_abfe1c86_0b1d_11e8_8a02_6a00032849f0row3_col3 {\n",
       "            color:  black;\n",
       "        }    #T_abfe1c86_0b1d_11e8_8a02_6a00032849f0row3_col4 {\n",
       "            color:  black;\n",
       "        }    #T_abfe1c86_0b1d_11e8_8a02_6a00032849f0row3_col5 {\n",
       "            color:  black;\n",
       "        }    #T_abfe1c86_0b1d_11e8_8a02_6a00032849f0row3_col6 {\n",
       "            color:  black;\n",
       "        }    #T_abfe1c86_0b1d_11e8_8a02_6a00032849f0row3_col7 {\n",
       "            color:  black;\n",
       "        }    #T_abfe1c86_0b1d_11e8_8a02_6a00032849f0row3_col8 {\n",
       "            color:  cyan;\n",
       "        }    #T_abfe1c86_0b1d_11e8_8a02_6a00032849f0row3_col9 {\n",
       "            color:  black;\n",
       "        }    #T_abfe1c86_0b1d_11e8_8a02_6a00032849f0row3_col10 {\n",
       "            color:  black;\n",
       "        }    #T_abfe1c86_0b1d_11e8_8a02_6a00032849f0row4_col0 {\n",
       "            color:  black;\n",
       "        }    #T_abfe1c86_0b1d_11e8_8a02_6a00032849f0row4_col1 {\n",
       "            color:  black;\n",
       "        }    #T_abfe1c86_0b1d_11e8_8a02_6a00032849f0row4_col2 {\n",
       "            color:  black;\n",
       "        }    #T_abfe1c86_0b1d_11e8_8a02_6a00032849f0row4_col3 {\n",
       "            color:  black;\n",
       "        }    #T_abfe1c86_0b1d_11e8_8a02_6a00032849f0row4_col4 {\n",
       "            color:  black;\n",
       "        }    #T_abfe1c86_0b1d_11e8_8a02_6a00032849f0row4_col5 {\n",
       "            color:  black;\n",
       "        }    #T_abfe1c86_0b1d_11e8_8a02_6a00032849f0row4_col6 {\n",
       "            color:  cyan;\n",
       "        }    #T_abfe1c86_0b1d_11e8_8a02_6a00032849f0row4_col7 {\n",
       "            color:  black;\n",
       "        }    #T_abfe1c86_0b1d_11e8_8a02_6a00032849f0row4_col8 {\n",
       "            color:  black;\n",
       "        }    #T_abfe1c86_0b1d_11e8_8a02_6a00032849f0row4_col9 {\n",
       "            color:  black;\n",
       "        }    #T_abfe1c86_0b1d_11e8_8a02_6a00032849f0row4_col10 {\n",
       "            color:  cyan;\n",
       "        }    #T_abfe1c86_0b1d_11e8_8a02_6a00032849f0row5_col0 {\n",
       "            color:  black;\n",
       "        }    #T_abfe1c86_0b1d_11e8_8a02_6a00032849f0row5_col1 {\n",
       "            color:  black;\n",
       "        }    #T_abfe1c86_0b1d_11e8_8a02_6a00032849f0row5_col2 {\n",
       "            color:  black;\n",
       "        }    #T_abfe1c86_0b1d_11e8_8a02_6a00032849f0row5_col3 {\n",
       "            color:  black;\n",
       "        }    #T_abfe1c86_0b1d_11e8_8a02_6a00032849f0row5_col4 {\n",
       "            color:  black;\n",
       "        }    #T_abfe1c86_0b1d_11e8_8a02_6a00032849f0row5_col5 {\n",
       "            color:  black;\n",
       "        }    #T_abfe1c86_0b1d_11e8_8a02_6a00032849f0row5_col6 {\n",
       "            color:  black;\n",
       "        }    #T_abfe1c86_0b1d_11e8_8a02_6a00032849f0row5_col7 {\n",
       "            color:  black;\n",
       "        }    #T_abfe1c86_0b1d_11e8_8a02_6a00032849f0row5_col8 {\n",
       "            color:  black;\n",
       "        }    #T_abfe1c86_0b1d_11e8_8a02_6a00032849f0row5_col9 {\n",
       "            color:  black;\n",
       "        }    #T_abfe1c86_0b1d_11e8_8a02_6a00032849f0row5_col10 {\n",
       "            color:  black;\n",
       "        }    #T_abfe1c86_0b1d_11e8_8a02_6a00032849f0row6_col0 {\n",
       "            color:  black;\n",
       "        }    #T_abfe1c86_0b1d_11e8_8a02_6a00032849f0row6_col1 {\n",
       "            color:  black;\n",
       "        }    #T_abfe1c86_0b1d_11e8_8a02_6a00032849f0row6_col2 {\n",
       "            color:  black;\n",
       "        }    #T_abfe1c86_0b1d_11e8_8a02_6a00032849f0row6_col3 {\n",
       "            color:  black;\n",
       "        }    #T_abfe1c86_0b1d_11e8_8a02_6a00032849f0row6_col4 {\n",
       "            color:  black;\n",
       "        }    #T_abfe1c86_0b1d_11e8_8a02_6a00032849f0row6_col5 {\n",
       "            color:  black;\n",
       "        }    #T_abfe1c86_0b1d_11e8_8a02_6a00032849f0row6_col6 {\n",
       "            color:  black;\n",
       "        }    #T_abfe1c86_0b1d_11e8_8a02_6a00032849f0row6_col7 {\n",
       "            color:  black;\n",
       "        }    #T_abfe1c86_0b1d_11e8_8a02_6a00032849f0row6_col8 {\n",
       "            color:  black;\n",
       "        }    #T_abfe1c86_0b1d_11e8_8a02_6a00032849f0row6_col9 {\n",
       "            color:  black;\n",
       "        }    #T_abfe1c86_0b1d_11e8_8a02_6a00032849f0row6_col10 {\n",
       "            color:  black;\n",
       "        }</style>  \n",
       "<table id=\"T_abfe1c86_0b1d_11e8_8a02_6a00032849f0\" > \n",
       "<thead>    <tr> \n",
       "        <th class=\"blank level0\" ></th> \n",
       "        <th class=\"col_heading level0 col0\" colspan=11>0</th> \n",
       "    </tr>    <tr> \n",
       "        <th class=\"index_name level1\" >year</th> \n",
       "        <th class=\"col_heading level1 col0\" >2004</th> \n",
       "        <th class=\"col_heading level1 col1\" >2005</th> \n",
       "        <th class=\"col_heading level1 col2\" >2006</th> \n",
       "        <th class=\"col_heading level1 col3\" >2007</th> \n",
       "        <th class=\"col_heading level1 col4\" >2008</th> \n",
       "        <th class=\"col_heading level1 col5\" >2009</th> \n",
       "        <th class=\"col_heading level1 col6\" >2010</th> \n",
       "        <th class=\"col_heading level1 col7\" >2011</th> \n",
       "        <th class=\"col_heading level1 col8\" >2012</th> \n",
       "        <th class=\"col_heading level1 col9\" >2013</th> \n",
       "        <th class=\"col_heading level1 col10\" >2014</th> \n",
       "    </tr>    <tr> \n",
       "        <th class=\"index_name level0\" >round</th> \n",
       "        <th class=\"blank\" ></th> \n",
       "        <th class=\"blank\" ></th> \n",
       "        <th class=\"blank\" ></th> \n",
       "        <th class=\"blank\" ></th> \n",
       "        <th class=\"blank\" ></th> \n",
       "        <th class=\"blank\" ></th> \n",
       "        <th class=\"blank\" ></th> \n",
       "        <th class=\"blank\" ></th> \n",
       "        <th class=\"blank\" ></th> \n",
       "        <th class=\"blank\" ></th> \n",
       "        <th class=\"blank\" ></th> \n",
       "    </tr></thead> \n",
       "<tbody>    <tr> \n",
       "        <th id=\"T_abfe1c86_0b1d_11e8_8a02_6a00032849f0\" class=\"row_heading level0 row0\" >Final</th> \n",
       "        <td id=\"T_abfe1c86_0b1d_11e8_8a02_6a00032849f0row0_col0\" class=\"data row0 col0\" >1</td> \n",
       "        <td id=\"T_abfe1c86_0b1d_11e8_8a02_6a00032849f0row0_col1\" class=\"data row0 col1\" >1</td> \n",
       "        <td id=\"T_abfe1c86_0b1d_11e8_8a02_6a00032849f0row0_col2\" class=\"data row0 col2\" >1</td> \n",
       "        <td id=\"T_abfe1c86_0b1d_11e8_8a02_6a00032849f0row0_col3\" class=\"data row0 col3\" >1</td> \n",
       "        <td id=\"T_abfe1c86_0b1d_11e8_8a02_6a00032849f0row0_col4\" class=\"data row0 col4\" >1</td> \n",
       "        <td id=\"T_abfe1c86_0b1d_11e8_8a02_6a00032849f0row0_col5\" class=\"data row0 col5\" >1</td> \n",
       "        <td id=\"T_abfe1c86_0b1d_11e8_8a02_6a00032849f0row0_col6\" class=\"data row0 col6\" >1</td> \n",
       "        <td id=\"T_abfe1c86_0b1d_11e8_8a02_6a00032849f0row0_col7\" class=\"data row0 col7\" >1</td> \n",
       "        <td id=\"T_abfe1c86_0b1d_11e8_8a02_6a00032849f0row0_col8\" class=\"data row0 col8\" >1</td> \n",
       "        <td id=\"T_abfe1c86_0b1d_11e8_8a02_6a00032849f0row0_col9\" class=\"data row0 col9\" >1</td> \n",
       "        <td id=\"T_abfe1c86_0b1d_11e8_8a02_6a00032849f0row0_col10\" class=\"data row0 col10\" >1</td> \n",
       "    </tr>    <tr> \n",
       "        <th id=\"T_abfe1c86_0b1d_11e8_8a02_6a00032849f0\" class=\"row_heading level0 row1\" >First</th> \n",
       "        <td id=\"T_abfe1c86_0b1d_11e8_8a02_6a00032849f0row1_col0\" class=\"data row1 col0\" >64</td> \n",
       "        <td id=\"T_abfe1c86_0b1d_11e8_8a02_6a00032849f0row1_col1\" class=\"data row1 col1\" >64</td> \n",
       "        <td id=\"T_abfe1c86_0b1d_11e8_8a02_6a00032849f0row1_col2\" class=\"data row1 col2\" >63</td> \n",
       "        <td id=\"T_abfe1c86_0b1d_11e8_8a02_6a00032849f0row1_col3\" class=\"data row1 col3\" >63</td> \n",
       "        <td id=\"T_abfe1c86_0b1d_11e8_8a02_6a00032849f0row1_col4\" class=\"data row1 col4\" >63</td> \n",
       "        <td id=\"T_abfe1c86_0b1d_11e8_8a02_6a00032849f0row1_col5\" class=\"data row1 col5\" >63</td> \n",
       "        <td id=\"T_abfe1c86_0b1d_11e8_8a02_6a00032849f0row1_col6\" class=\"data row1 col6\" >63</td> \n",
       "        <td id=\"T_abfe1c86_0b1d_11e8_8a02_6a00032849f0row1_col7\" class=\"data row1 col7\" >64</td> \n",
       "        <td id=\"T_abfe1c86_0b1d_11e8_8a02_6a00032849f0row1_col8\" class=\"data row1 col8\" >64</td> \n",
       "        <td id=\"T_abfe1c86_0b1d_11e8_8a02_6a00032849f0row1_col9\" class=\"data row1 col9\" >63</td> \n",
       "        <td id=\"T_abfe1c86_0b1d_11e8_8a02_6a00032849f0row1_col10\" class=\"data row1 col10\" >62</td> \n",
       "    </tr>    <tr> \n",
       "        <th id=\"T_abfe1c86_0b1d_11e8_8a02_6a00032849f0\" class=\"row_heading level0 row2\" >Fourth</th> \n",
       "        <td id=\"T_abfe1c86_0b1d_11e8_8a02_6a00032849f0row2_col0\" class=\"data row2 col0\" >8</td> \n",
       "        <td id=\"T_abfe1c86_0b1d_11e8_8a02_6a00032849f0row2_col1\" class=\"data row2 col1\" >8</td> \n",
       "        <td id=\"T_abfe1c86_0b1d_11e8_8a02_6a00032849f0row2_col2\" class=\"data row2 col2\" >8</td> \n",
       "        <td id=\"T_abfe1c86_0b1d_11e8_8a02_6a00032849f0row2_col3\" class=\"data row2 col3\" >8</td> \n",
       "        <td id=\"T_abfe1c86_0b1d_11e8_8a02_6a00032849f0row2_col4\" class=\"data row2 col4\" >8</td> \n",
       "        <td id=\"T_abfe1c86_0b1d_11e8_8a02_6a00032849f0row2_col5\" class=\"data row2 col5\" >8</td> \n",
       "        <td id=\"T_abfe1c86_0b1d_11e8_8a02_6a00032849f0row2_col6\" class=\"data row2 col6\" >8</td> \n",
       "        <td id=\"T_abfe1c86_0b1d_11e8_8a02_6a00032849f0row2_col7\" class=\"data row2 col7\" >8</td> \n",
       "        <td id=\"T_abfe1c86_0b1d_11e8_8a02_6a00032849f0row2_col8\" class=\"data row2 col8\" >8</td> \n",
       "        <td id=\"T_abfe1c86_0b1d_11e8_8a02_6a00032849f0row2_col9\" class=\"data row2 col9\" >8</td> \n",
       "        <td id=\"T_abfe1c86_0b1d_11e8_8a02_6a00032849f0row2_col10\" class=\"data row2 col10\" >8</td> \n",
       "    </tr>    <tr> \n",
       "        <th id=\"T_abfe1c86_0b1d_11e8_8a02_6a00032849f0\" class=\"row_heading level0 row3\" >Second</th> \n",
       "        <td id=\"T_abfe1c86_0b1d_11e8_8a02_6a00032849f0row3_col0\" class=\"data row3 col0\" >32</td> \n",
       "        <td id=\"T_abfe1c86_0b1d_11e8_8a02_6a00032849f0row3_col1\" class=\"data row3 col1\" >32</td> \n",
       "        <td id=\"T_abfe1c86_0b1d_11e8_8a02_6a00032849f0row3_col2\" class=\"data row3 col2\" >32</td> \n",
       "        <td id=\"T_abfe1c86_0b1d_11e8_8a02_6a00032849f0row3_col3\" class=\"data row3 col3\" >32</td> \n",
       "        <td id=\"T_abfe1c86_0b1d_11e8_8a02_6a00032849f0row3_col4\" class=\"data row3 col4\" >32</td> \n",
       "        <td id=\"T_abfe1c86_0b1d_11e8_8a02_6a00032849f0row3_col5\" class=\"data row3 col5\" >32</td> \n",
       "        <td id=\"T_abfe1c86_0b1d_11e8_8a02_6a00032849f0row3_col6\" class=\"data row3 col6\" >32</td> \n",
       "        <td id=\"T_abfe1c86_0b1d_11e8_8a02_6a00032849f0row3_col7\" class=\"data row3 col7\" >32</td> \n",
       "        <td id=\"T_abfe1c86_0b1d_11e8_8a02_6a00032849f0row3_col8\" class=\"data row3 col8\" >31</td> \n",
       "        <td id=\"T_abfe1c86_0b1d_11e8_8a02_6a00032849f0row3_col9\" class=\"data row3 col9\" >32</td> \n",
       "        <td id=\"T_abfe1c86_0b1d_11e8_8a02_6a00032849f0row3_col10\" class=\"data row3 col10\" >32</td> \n",
       "    </tr>    <tr> \n",
       "        <th id=\"T_abfe1c86_0b1d_11e8_8a02_6a00032849f0\" class=\"row_heading level0 row4\" >Third</th> \n",
       "        <td id=\"T_abfe1c86_0b1d_11e8_8a02_6a00032849f0row4_col0\" class=\"data row4 col0\" >16</td> \n",
       "        <td id=\"T_abfe1c86_0b1d_11e8_8a02_6a00032849f0row4_col1\" class=\"data row4 col1\" >16</td> \n",
       "        <td id=\"T_abfe1c86_0b1d_11e8_8a02_6a00032849f0row4_col2\" class=\"data row4 col2\" >16</td> \n",
       "        <td id=\"T_abfe1c86_0b1d_11e8_8a02_6a00032849f0row4_col3\" class=\"data row4 col3\" >16</td> \n",
       "        <td id=\"T_abfe1c86_0b1d_11e8_8a02_6a00032849f0row4_col4\" class=\"data row4 col4\" >16</td> \n",
       "        <td id=\"T_abfe1c86_0b1d_11e8_8a02_6a00032849f0row4_col5\" class=\"data row4 col5\" >16</td> \n",
       "        <td id=\"T_abfe1c86_0b1d_11e8_8a02_6a00032849f0row4_col6\" class=\"data row4 col6\" >15</td> \n",
       "        <td id=\"T_abfe1c86_0b1d_11e8_8a02_6a00032849f0row4_col7\" class=\"data row4 col7\" >16</td> \n",
       "        <td id=\"T_abfe1c86_0b1d_11e8_8a02_6a00032849f0row4_col8\" class=\"data row4 col8\" >16</td> \n",
       "        <td id=\"T_abfe1c86_0b1d_11e8_8a02_6a00032849f0row4_col9\" class=\"data row4 col9\" >16</td> \n",
       "        <td id=\"T_abfe1c86_0b1d_11e8_8a02_6a00032849f0row4_col10\" class=\"data row4 col10\" >15</td> \n",
       "    </tr>    <tr> \n",
       "        <th id=\"T_abfe1c86_0b1d_11e8_8a02_6a00032849f0\" class=\"row_heading level0 row5\" >quarter</th> \n",
       "        <td id=\"T_abfe1c86_0b1d_11e8_8a02_6a00032849f0row5_col0\" class=\"data row5 col0\" >4</td> \n",
       "        <td id=\"T_abfe1c86_0b1d_11e8_8a02_6a00032849f0row5_col1\" class=\"data row5 col1\" >4</td> \n",
       "        <td id=\"T_abfe1c86_0b1d_11e8_8a02_6a00032849f0row5_col2\" class=\"data row5 col2\" >4</td> \n",
       "        <td id=\"T_abfe1c86_0b1d_11e8_8a02_6a00032849f0row5_col3\" class=\"data row5 col3\" >4</td> \n",
       "        <td id=\"T_abfe1c86_0b1d_11e8_8a02_6a00032849f0row5_col4\" class=\"data row5 col4\" >4</td> \n",
       "        <td id=\"T_abfe1c86_0b1d_11e8_8a02_6a00032849f0row5_col5\" class=\"data row5 col5\" >4</td> \n",
       "        <td id=\"T_abfe1c86_0b1d_11e8_8a02_6a00032849f0row5_col6\" class=\"data row5 col6\" >4</td> \n",
       "        <td id=\"T_abfe1c86_0b1d_11e8_8a02_6a00032849f0row5_col7\" class=\"data row5 col7\" >4</td> \n",
       "        <td id=\"T_abfe1c86_0b1d_11e8_8a02_6a00032849f0row5_col8\" class=\"data row5 col8\" >4</td> \n",
       "        <td id=\"T_abfe1c86_0b1d_11e8_8a02_6a00032849f0row5_col9\" class=\"data row5 col9\" >4</td> \n",
       "        <td id=\"T_abfe1c86_0b1d_11e8_8a02_6a00032849f0row5_col10\" class=\"data row5 col10\" >4</td> \n",
       "    </tr>    <tr> \n",
       "        <th id=\"T_abfe1c86_0b1d_11e8_8a02_6a00032849f0\" class=\"row_heading level0 row6\" >semi</th> \n",
       "        <td id=\"T_abfe1c86_0b1d_11e8_8a02_6a00032849f0row6_col0\" class=\"data row6 col0\" >2</td> \n",
       "        <td id=\"T_abfe1c86_0b1d_11e8_8a02_6a00032849f0row6_col1\" class=\"data row6 col1\" >2</td> \n",
       "        <td id=\"T_abfe1c86_0b1d_11e8_8a02_6a00032849f0row6_col2\" class=\"data row6 col2\" >2</td> \n",
       "        <td id=\"T_abfe1c86_0b1d_11e8_8a02_6a00032849f0row6_col3\" class=\"data row6 col3\" >2</td> \n",
       "        <td id=\"T_abfe1c86_0b1d_11e8_8a02_6a00032849f0row6_col4\" class=\"data row6 col4\" >2</td> \n",
       "        <td id=\"T_abfe1c86_0b1d_11e8_8a02_6a00032849f0row6_col5\" class=\"data row6 col5\" >2</td> \n",
       "        <td id=\"T_abfe1c86_0b1d_11e8_8a02_6a00032849f0row6_col6\" class=\"data row6 col6\" >2</td> \n",
       "        <td id=\"T_abfe1c86_0b1d_11e8_8a02_6a00032849f0row6_col7\" class=\"data row6 col7\" >2</td> \n",
       "        <td id=\"T_abfe1c86_0b1d_11e8_8a02_6a00032849f0row6_col8\" class=\"data row6 col8\" >2</td> \n",
       "        <td id=\"T_abfe1c86_0b1d_11e8_8a02_6a00032849f0row6_col9\" class=\"data row6 col9\" >2</td> \n",
       "        <td id=\"T_abfe1c86_0b1d_11e8_8a02_6a00032849f0row6_col10\" class=\"data row6 col10\" >2</td> \n",
       "    </tr></tbody> \n",
       "</table> "
      ],
      "text/plain": [
       "<pandas.io.formats.style.Styler at 0x111b6ec50>"
      ]
     },
     "execution_count": 12,
     "metadata": {},
     "output_type": "execute_result"
    }
   ],
   "source": [
    "new_df = pd.DataFrame(df.groupby(['year', 'round']).size())\n",
    "new_df = new_df.unstack(level = 0)\n",
    "\n",
    "def highlight_last_row(s):\n",
    "    return ['background-color: #7db4c6' if i == 1 else '' for i in range(len(s))]\n",
    "\n",
    "\n",
    "def color_negative_red(val):\n",
    "    \"\"\"\n",
    "    Takes a scalar and returns a string with\n",
    "    the css property `'color: red'` for negative\n",
    "    strings, black otherwise.\n",
    "    \"\"\"\n",
    "    color = 'cyan' if val%2 != 0 and val != 1 else 'black'\n",
    "    return 'color: %s' % color\n",
    "\n",
    "# new_df.style.apply(highlight_last_row, axis = 0)\n",
    "new_df.style.applymap(color_negative_red)"
   ]
  },
  {
   "cell_type": "markdown",
   "metadata": {},
   "source": [
    "- https://stackoverflow.com/questions/18096748/pandas-dataframes-to-html-highlighting-table-rows\n",
    "- https://pandas.pydata.org/pandas-docs/stable/style.html\n",
    "\n",
    "###### So, this is why the number of games at each level doesn't differ by the factor of 2!"
   ]
  },
  {
   "cell_type": "code",
   "execution_count": null,
   "metadata": {
    "collapsed": true
   },
   "outputs": [],
   "source": []
  }
 ],
 "metadata": {
  "kernelspec": {
   "display_name": "Python 3",
   "language": "python",
   "name": "python3"
  },
  "language_info": {
   "codemirror_mode": {
    "name": "ipython",
    "version": 3
   },
   "file_extension": ".py",
   "mimetype": "text/x-python",
   "name": "python",
   "nbconvert_exporter": "python",
   "pygments_lexer": "ipython3",
   "version": "3.6.1"
  }
 },
 "nbformat": 4,
 "nbformat_minor": 2
}
